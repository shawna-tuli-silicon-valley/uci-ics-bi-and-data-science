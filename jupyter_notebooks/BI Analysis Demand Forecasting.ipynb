{
 "cells": [
  {
   "cell_type": "markdown",
   "id": "e5932034",
   "metadata": {},
   "source": [
    "# BI Analysis Demand Forecasting"
   ]
  },
  {
   "cell_type": "markdown",
   "id": "138f0704",
   "metadata": {},
   "source": [
    "Shawna Tuli (shawna.tuli@avanade.com)"
   ]
  },
  {
   "cell_type": "markdown",
   "id": "1f0c62d3",
   "metadata": {},
   "source": [
    "Import libraries"
   ]
  },
  {
   "cell_type": "code",
   "execution_count": 52,
   "id": "31b46c48",
   "metadata": {},
   "outputs": [],
   "source": [
    "import pandas as pd\n",
    "from sklearn.model_selection import train_test_split\n",
    "from sklearn.linear_model import LinearRegression\n",
    "from sklearn.metrics import mean_squared_error, r2_score\n",
    "from sklearn.tree import DecisionTreeRegressor\n",
    "from sklearn.ensemble import RandomForestRegressor\n",
    "from statsmodels.tsa.arima.model import ARIMA\n",
    "import matplotlib.pyplot as plt\n",
    "import warnings\n",
    "warnings.filterwarnings(\"ignore\") "
   ]
  },
  {
   "cell_type": "markdown",
   "id": "cfa27d07",
   "metadata": {},
   "source": [
    "Read data"
   ]
  },
  {
   "cell_type": "code",
   "execution_count": 28,
   "id": "cb142e25",
   "metadata": {},
   "outputs": [
    {
     "data": {
      "text/html": [
       "<div>\n",
       "<style scoped>\n",
       "    .dataframe tbody tr th:only-of-type {\n",
       "        vertical-align: middle;\n",
       "    }\n",
       "\n",
       "    .dataframe tbody tr th {\n",
       "        vertical-align: top;\n",
       "    }\n",
       "\n",
       "    .dataframe thead th {\n",
       "        text-align: right;\n",
       "    }\n",
       "</style>\n",
       "<table border=\"1\" class=\"dataframe\">\n",
       "  <thead>\n",
       "    <tr style=\"text-align: right;\">\n",
       "      <th></th>\n",
       "      <th>Name</th>\n",
       "      <th>Trips Completed</th>\n",
       "      <th>Accept Rate</th>\n",
       "      <th>Supply Hours</th>\n",
       "      <th>Rating</th>\n",
       "    </tr>\n",
       "  </thead>\n",
       "  <tbody>\n",
       "    <tr>\n",
       "      <th>0</th>\n",
       "      <td>Abdul</td>\n",
       "      <td>1</td>\n",
       "      <td>100%</td>\n",
       "      <td>3</td>\n",
       "      <td>4.8</td>\n",
       "    </tr>\n",
       "    <tr>\n",
       "      <th>1</th>\n",
       "      <td>Abraham</td>\n",
       "      <td>12</td>\n",
       "      <td>83%</td>\n",
       "      <td>5</td>\n",
       "      <td>4.7</td>\n",
       "    </tr>\n",
       "    <tr>\n",
       "      <th>2</th>\n",
       "      <td>Adelina</td>\n",
       "      <td>1</td>\n",
       "      <td>100%</td>\n",
       "      <td>2</td>\n",
       "      <td>4.7</td>\n",
       "    </tr>\n",
       "    <tr>\n",
       "      <th>3</th>\n",
       "      <td>Akilah</td>\n",
       "      <td>1</td>\n",
       "      <td>100%</td>\n",
       "      <td>2</td>\n",
       "      <td>4.9</td>\n",
       "    </tr>\n",
       "    <tr>\n",
       "      <th>4</th>\n",
       "      <td>Alec</td>\n",
       "      <td>21</td>\n",
       "      <td>76%</td>\n",
       "      <td>11</td>\n",
       "      <td>5.0</td>\n",
       "    </tr>\n",
       "  </tbody>\n",
       "</table>\n",
       "</div>"
      ],
      "text/plain": [
       "      Name  Trips Completed Accept Rate  Supply Hours  Rating\n",
       "0    Abdul                1        100%             3     4.8\n",
       "1  Abraham               12         83%             5     4.7\n",
       "2  Adelina                1        100%             2     4.7\n",
       "3   Akilah                1        100%             2     4.9\n",
       "4     Alec               21         76%            11     5.0"
      ]
     },
     "execution_count": 28,
     "metadata": {},
     "output_type": "execute_result"
    }
   ],
   "source": [
    "df = pd.read_csv('dataset_2.csv', low_memory = False)\n",
    "df.head()"
   ]
  },
  {
   "cell_type": "markdown",
   "id": "4236cc08",
   "metadata": {},
   "source": [
    "Remove the '%' sign and convert to float"
   ]
  },
  {
   "cell_type": "code",
   "execution_count": 29,
   "id": "beae301a",
   "metadata": {},
   "outputs": [],
   "source": [
    "df['Accept Rate'] = df['Accept Rate'].str.replace('%', '').astype(float) / 100"
   ]
  },
  {
   "cell_type": "markdown",
   "id": "c1ccfa07",
   "metadata": {},
   "source": [
    "Feature engineering (example: create a new feature 'Trips per Hour')"
   ]
  },
  {
   "cell_type": "code",
   "execution_count": 30,
   "id": "50bbf14e",
   "metadata": {},
   "outputs": [],
   "source": [
    "df['Trips per Hour'] = df['Trips Completed'] / df['Supply Hours']"
   ]
  },
  {
   "cell_type": "markdown",
   "id": "4c0b9083",
   "metadata": {},
   "source": [
    "Select features and target variable"
   ]
  },
  {
   "cell_type": "code",
   "execution_count": 31,
   "id": "058b1323",
   "metadata": {},
   "outputs": [],
   "source": [
    "X = df[['Accept Rate', 'Supply Hours', 'Trips per Hour', 'Rating']]\n",
    "y = df['Trips Completed']"
   ]
  },
  {
   "cell_type": "markdown",
   "id": "b155ccb0",
   "metadata": {},
   "source": [
    "Split data into training and testing sets"
   ]
  },
  {
   "cell_type": "code",
   "execution_count": 32,
   "id": "e9ff2f0c",
   "metadata": {},
   "outputs": [],
   "source": [
    "X_train, X_test, y_train, y_test = train_test_split(X, y, test_size=0.2, random_state=42)"
   ]
  },
  {
   "cell_type": "markdown",
   "id": "97e6c0d7",
   "metadata": {},
   "source": [
    "Create and train the model"
   ]
  },
  {
   "cell_type": "code",
   "execution_count": 33,
   "id": "ec263afc",
   "metadata": {},
   "outputs": [
    {
     "data": {
      "text/html": [
       "<style>#sk-container-id-1 {color: black;}#sk-container-id-1 pre{padding: 0;}#sk-container-id-1 div.sk-toggleable {background-color: white;}#sk-container-id-1 label.sk-toggleable__label {cursor: pointer;display: block;width: 100%;margin-bottom: 0;padding: 0.3em;box-sizing: border-box;text-align: center;}#sk-container-id-1 label.sk-toggleable__label-arrow:before {content: \"▸\";float: left;margin-right: 0.25em;color: #696969;}#sk-container-id-1 label.sk-toggleable__label-arrow:hover:before {color: black;}#sk-container-id-1 div.sk-estimator:hover label.sk-toggleable__label-arrow:before {color: black;}#sk-container-id-1 div.sk-toggleable__content {max-height: 0;max-width: 0;overflow: hidden;text-align: left;background-color: #f0f8ff;}#sk-container-id-1 div.sk-toggleable__content pre {margin: 0.2em;color: black;border-radius: 0.25em;background-color: #f0f8ff;}#sk-container-id-1 input.sk-toggleable__control:checked~div.sk-toggleable__content {max-height: 200px;max-width: 100%;overflow: auto;}#sk-container-id-1 input.sk-toggleable__control:checked~label.sk-toggleable__label-arrow:before {content: \"▾\";}#sk-container-id-1 div.sk-estimator input.sk-toggleable__control:checked~label.sk-toggleable__label {background-color: #d4ebff;}#sk-container-id-1 div.sk-label input.sk-toggleable__control:checked~label.sk-toggleable__label {background-color: #d4ebff;}#sk-container-id-1 input.sk-hidden--visually {border: 0;clip: rect(1px 1px 1px 1px);clip: rect(1px, 1px, 1px, 1px);height: 1px;margin: -1px;overflow: hidden;padding: 0;position: absolute;width: 1px;}#sk-container-id-1 div.sk-estimator {font-family: monospace;background-color: #f0f8ff;border: 1px dotted black;border-radius: 0.25em;box-sizing: border-box;margin-bottom: 0.5em;}#sk-container-id-1 div.sk-estimator:hover {background-color: #d4ebff;}#sk-container-id-1 div.sk-parallel-item::after {content: \"\";width: 100%;border-bottom: 1px solid gray;flex-grow: 1;}#sk-container-id-1 div.sk-label:hover label.sk-toggleable__label {background-color: #d4ebff;}#sk-container-id-1 div.sk-serial::before {content: \"\";position: absolute;border-left: 1px solid gray;box-sizing: border-box;top: 0;bottom: 0;left: 50%;z-index: 0;}#sk-container-id-1 div.sk-serial {display: flex;flex-direction: column;align-items: center;background-color: white;padding-right: 0.2em;padding-left: 0.2em;position: relative;}#sk-container-id-1 div.sk-item {position: relative;z-index: 1;}#sk-container-id-1 div.sk-parallel {display: flex;align-items: stretch;justify-content: center;background-color: white;position: relative;}#sk-container-id-1 div.sk-item::before, #sk-container-id-1 div.sk-parallel-item::before {content: \"\";position: absolute;border-left: 1px solid gray;box-sizing: border-box;top: 0;bottom: 0;left: 50%;z-index: -1;}#sk-container-id-1 div.sk-parallel-item {display: flex;flex-direction: column;z-index: 1;position: relative;background-color: white;}#sk-container-id-1 div.sk-parallel-item:first-child::after {align-self: flex-end;width: 50%;}#sk-container-id-1 div.sk-parallel-item:last-child::after {align-self: flex-start;width: 50%;}#sk-container-id-1 div.sk-parallel-item:only-child::after {width: 0;}#sk-container-id-1 div.sk-dashed-wrapped {border: 1px dashed gray;margin: 0 0.4em 0.5em 0.4em;box-sizing: border-box;padding-bottom: 0.4em;background-color: white;}#sk-container-id-1 div.sk-label label {font-family: monospace;font-weight: bold;display: inline-block;line-height: 1.2em;}#sk-container-id-1 div.sk-label-container {text-align: center;}#sk-container-id-1 div.sk-container {/* jupyter's `normalize.less` sets `[hidden] { display: none; }` but bootstrap.min.css set `[hidden] { display: none !important; }` so we also need the `!important` here to be able to override the default hidden behavior on the sphinx rendered scikit-learn.org. See: https://github.com/scikit-learn/scikit-learn/issues/21755 */display: inline-block !important;position: relative;}#sk-container-id-1 div.sk-text-repr-fallback {display: none;}</style><div id=\"sk-container-id-1\" class=\"sk-top-container\"><div class=\"sk-text-repr-fallback\"><pre>LinearRegression()</pre><b>In a Jupyter environment, please rerun this cell to show the HTML representation or trust the notebook. <br />On GitHub, the HTML representation is unable to render, please try loading this page with nbviewer.org.</b></div><div class=\"sk-container\" hidden><div class=\"sk-item\"><div class=\"sk-estimator sk-toggleable\"><input class=\"sk-toggleable__control sk-hidden--visually\" id=\"sk-estimator-id-1\" type=\"checkbox\" checked><label for=\"sk-estimator-id-1\" class=\"sk-toggleable__label sk-toggleable__label-arrow\">LinearRegression</label><div class=\"sk-toggleable__content\"><pre>LinearRegression()</pre></div></div></div></div></div>"
      ],
      "text/plain": [
       "LinearRegression()"
      ]
     },
     "execution_count": 33,
     "metadata": {},
     "output_type": "execute_result"
    }
   ],
   "source": [
    "model = LinearRegression()\n",
    "model.fit(X_train, y_train)"
   ]
  },
  {
   "cell_type": "markdown",
   "id": "dc7f8405",
   "metadata": {},
   "source": [
    "Make predictions"
   ]
  },
  {
   "cell_type": "code",
   "execution_count": 34,
   "id": "59d1d08d",
   "metadata": {},
   "outputs": [],
   "source": [
    "y_pred = model.predict(X_test)"
   ]
  },
  {
   "cell_type": "markdown",
   "id": "ced83c08",
   "metadata": {},
   "source": [
    "Evaluate the model"
   ]
  },
  {
   "cell_type": "code",
   "execution_count": 36,
   "id": "9640efd3",
   "metadata": {},
   "outputs": [
    {
     "name": "stdout",
     "output_type": "stream",
     "text": [
      "Mean Squared Error: 4.625442863794397\n",
      "R-squared: 0.8770589686887742\n"
     ]
    }
   ],
   "source": [
    "mse = mean_squared_error(y_test, y_pred)\n",
    "r2 = r2_score(y_test, y_pred)\n",
    "print(f'Mean Squared Error: {mse}')\n",
    "print(f'R-squared: {r2}')"
   ]
  },
  {
   "cell_type": "markdown",
   "id": "9cf1dd2e",
   "metadata": {},
   "source": [
    "Visualize the results (optional)"
   ]
  },
  {
   "cell_type": "code",
   "execution_count": 38,
   "id": "703114ff",
   "metadata": {},
   "outputs": [
    {
     "data": {
      "image/png": "[encoded data removed]",
      "text/plain": [
       "<Figure size 640x480 with 1 Axes>"
      ]
     },
     "metadata": {},
     "output_type": "display_data"
    }
   ],
   "source": [
    "plt.scatter(y_test, y_pred)\n",
    "plt.xlabel('Actual Trips Completed')\n",
    "plt.ylabel('Predicted Trips Completed')\n",
    "plt.title('Actual vs. Predicted Trips Completed')\n",
    "plt.show()"
   ]
  },
  {
   "cell_type": "markdown",
   "id": "fdf35450",
   "metadata": {},
   "source": [
    "Further analysis and improvements:\n",
    "1. Data preprocessing: Handle missing values, outliers, and scale features.\n",
    "2. Feature engineering: Explore more relevant features (e.g., time-based features, location data).\n",
    "3. Model selection: Experiment with different models (e.g., decision trees, random forests, time series models).\n",
    "4. Hyperparameter tuning: Optimize model parameters for better performance.\n",
    "5. Time series analysis: If your data has a time component, consider time series forecasting methods."
   ]
  },
  {
   "cell_type": "markdown",
   "id": "3c53a236",
   "metadata": {},
   "source": [
    "Feature Engineering (Example: Lagged Features)"
   ]
  },
  {
   "cell_type": "code",
   "execution_count": 44,
   "id": "fa6d66b3",
   "metadata": {},
   "outputs": [],
   "source": [
    "df['Lag_1'] = df['Trips Completed'].shift(1)  # Lag 1 \n",
    "df['Lag_7'] = df['Trips Completed'].shift(7)  # Lag 7 (Weekly)\n",
    "df['Lag_30'] = df['Trips Completed'].shift(30)  # Lag 30 (Monthly)\n",
    "df.dropna(inplace=True) "
   ]
  },
  {
   "cell_type": "markdown",
   "id": "fde52d43",
   "metadata": {},
   "source": [
    "Split data"
   ]
  },
  {
   "cell_type": "code",
   "execution_count": 45,
   "id": "4c239058",
   "metadata": {},
   "outputs": [],
   "source": [
    "train_size = int(len(df) * 0.8)\n",
    "train, test = df[0:train_size], df[train_size:len(df)]"
   ]
  },
  {
   "cell_type": "markdown",
   "id": "ca17d080",
   "metadata": {},
   "source": [
    "Prepare data for machine learning models"
   ]
  },
  {
   "cell_type": "code",
   "execution_count": 46,
   "id": "fa997eaa",
   "metadata": {},
   "outputs": [],
   "source": [
    "X_train = train[['Lag_1', 'Lag_7', 'Lag_30']]\n",
    "y_train = train['Trips Completed']\n",
    "X_test = test[['Lag_1', 'Lag_7', 'Lag_30']]\n",
    "y_test = test['Trips Completed']"
   ]
  },
  {
   "cell_type": "markdown",
   "id": "6fed8f5a",
   "metadata": {},
   "source": [
    "1. Decision Tree Regression"
   ]
  },
  {
   "cell_type": "code",
   "execution_count": 47,
   "id": "8d9b6091",
   "metadata": {},
   "outputs": [
    {
     "name": "stdout",
     "output_type": "stream",
     "text": [
      "Decision Tree - MSE: 17.833333333333332, R-squared: 0.3879885605338418\n"
     ]
    }
   ],
   "source": [
    "dt_model = DecisionTreeRegressor(random_state=42)\n",
    "dt_model.fit(X_train, y_train)\n",
    "dt_pred = dt_model.predict(X_test)\n",
    "dt_mse = mean_squared_error(y_test, dt_pred)\n",
    "dt_r2 = r2_score(y_test, dt_pred)\n",
    "print(f\"Decision Tree - MSE: {dt_mse}, R-squared: {dt_r2}\")"
   ]
  },
  {
   "cell_type": "markdown",
   "id": "0ee280a2",
   "metadata": {},
   "source": [
    "2. Random Forest Regression"
   ]
  },
  {
   "cell_type": "code",
   "execution_count": 48,
   "id": "0e171719",
   "metadata": {},
   "outputs": [
    {
     "name": "stdout",
     "output_type": "stream",
     "text": [
      "Random Forest - MSE: 21.13013333333333, R-squared: 0.2748476644423262\n"
     ]
    }
   ],
   "source": [
    "rf_model = RandomForestRegressor(n_estimators=100, random_state=42)\n",
    "rf_model.fit(X_train, y_train)\n",
    "rf_pred = rf_model.predict(X_test)\n",
    "rf_mse = mean_squared_error(y_test, rf_pred)\n",
    "rf_r2 = r2_score(y_test, rf_pred)\n",
    "print(f\"Random Forest - MSE: {rf_mse}, R-squared: {rf_r2}\")"
   ]
  },
  {
   "cell_type": "markdown",
   "id": "78e4a4e6",
   "metadata": {},
   "source": [
    "3. ARIMA Model (Time Series)"
   ]
  },
  {
   "cell_type": "code",
   "execution_count": 53,
   "id": "8082a4e3",
   "metadata": {},
   "outputs": [
    {
     "name": "stdout",
     "output_type": "stream",
     "text": [
      "ARIMA (1,1,0) - MSE: 28.987508700350123, R-squared: 0.0051951256314543\n"
     ]
    }
   ],
   "source": [
    "# Find optimal ARIMA order (p, d, q) - This part requires careful tuning\n",
    "p, d, q = 1, 1, 0  # Example order\n",
    "arima_model = ARIMA(train['Trips Completed'], order=(p, d, q))\n",
    "arima_results = arima_model.fit()\n",
    "arima_pred = arima_results.forecast(steps=len(test))\n",
    "arima_mse = mean_squared_error(y_test, arima_pred)\n",
    "arima_r2 = r2_score(y_test, arima_pred)\n",
    "print(f\"ARIMA ({p},{d},{q}) - MSE: {arima_mse}, R-squared: {arima_r2}\")"
   ]
  },
  {
   "cell_type": "markdown",
   "id": "314c98d8",
   "metadata": {},
   "source": [
    "Plot results (Example for Decision Tree)"
   ]
  },
  {
   "cell_type": "code",
   "execution_count": 54,
   "id": "259ddb9a",
   "metadata": {},
   "outputs": [
    {
     "data": {
      "image/png": "[encoded data removed]",
      "text/plain": [
       "<Figure size 1000x600 with 1 Axes>"
      ]
     },
     "metadata": {},
     "output_type": "display_data"
    }
   ],
   "source": [
    "plt.figure(figsize=(10, 6))\n",
    "plt.plot(test.index, y_test, label='Actual')\n",
    "plt.plot(test.index, dt_pred, label='Decision Tree Prediction')\n",
    "plt.legend()\n",
    "plt.title('Decision Tree Predictions')\n",
    "plt.show()"
   ]
  },
  {
   "cell_type": "markdown",
   "id": "e379dd49",
   "metadata": {},
   "source": [
    "Note:\n",
    "1. Replace placeholders with your actual data.\n",
    "2. Experiment with different lag values and feature engineering.\n",
    "3. Tune hyperparameters for Decision Tree and Random Forest (max_depth, min_samples_leaf, etc.).\n",
    "4. Perform rigorous hyperparameter tuning for the ARIMA model using techniques like grid search.\n",
    "5. Consider incorporating external factors (e.g., weather, events, holidays) if available.\n",
    "6. Evaluate model performance using appropriate metrics (e.g., MAPE, RMSE) and choose the best model based on your specific needs."
   ]
  },
  {
   "cell_type": "markdown",
   "id": "0b05914f",
   "metadata": {},
   "source": [
    "End"
   ]
  }
 ],
 "metadata": {
  "kernelspec": {
   "display_name": "Python 3 (ipykernel)",
   "language": "python",
   "name": "python3"
  },
  "language_info": {
   "codemirror_mode": {
    "name": "ipython",
    "version": 3
   },
   "file_extension": ".py",
   "mimetype": "text/x-python",
   "name": "python",
   "nbconvert_exporter": "python",
   "pygments_lexer": "ipython3",
   "version": "3.11.5"
  }
 },
 "nbformat": 4,
 "nbformat_minor": 5
}
