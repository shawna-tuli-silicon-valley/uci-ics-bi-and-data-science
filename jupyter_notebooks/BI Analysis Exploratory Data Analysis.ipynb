{
 "cells": [
  {
   "cell_type": "markdown",
   "id": "76ce0eb0",
   "metadata": {},
   "source": [
    "# BI Analysis Exploratory Data Analysis"
   ]
  },
  {
   "cell_type": "markdown",
   "id": "48851867",
   "metadata": {},
   "source": [
    "Shawna Tuli (shawna.tuli@avanade.com)"
   ]
  },
  {
   "cell_type": "markdown",
   "id": "33e7b1a6",
   "metadata": {},
   "source": [
    "Import libraries"
   ]
  },
  {
   "cell_type": "code",
   "execution_count": 1,
   "id": "1895fc9c",
   "metadata": {},
   "outputs": [],
   "source": [
    "import pandas as pd\n",
    "import numpy as np\n",
    "import matplotlib.pyplot as plt"
   ]
  },
  {
   "cell_type": "markdown",
   "id": "7efbd85f",
   "metadata": {},
   "source": [
    "Read data"
   ]
  },
  {
   "cell_type": "code",
   "execution_count": 2,
   "id": "7b5b7040",
   "metadata": {},
   "outputs": [
    {
     "data": {
      "text/html": [
       "<div>\n",
       "<style scoped>\n",
       "    .dataframe tbody tr th:only-of-type {\n",
       "        vertical-align: middle;\n",
       "    }\n",
       "\n",
       "    .dataframe tbody tr th {\n",
       "        vertical-align: top;\n",
       "    }\n",
       "\n",
       "    .dataframe thead th {\n",
       "        text-align: right;\n",
       "    }\n",
       "</style>\n",
       "<table border=\"1\" class=\"dataframe\">\n",
       "  <thead>\n",
       "    <tr style=\"text-align: right;\">\n",
       "      <th></th>\n",
       "      <th>Name</th>\n",
       "      <th>Trips Completed</th>\n",
       "      <th>Accept Rate</th>\n",
       "      <th>Supply Hours</th>\n",
       "      <th>Rating</th>\n",
       "    </tr>\n",
       "  </thead>\n",
       "  <tbody>\n",
       "    <tr>\n",
       "      <th>0</th>\n",
       "      <td>Abdul</td>\n",
       "      <td>1</td>\n",
       "      <td>100%</td>\n",
       "      <td>3</td>\n",
       "      <td>4.8</td>\n",
       "    </tr>\n",
       "    <tr>\n",
       "      <th>1</th>\n",
       "      <td>Abraham</td>\n",
       "      <td>12</td>\n",
       "      <td>83%</td>\n",
       "      <td>5</td>\n",
       "      <td>4.7</td>\n",
       "    </tr>\n",
       "    <tr>\n",
       "      <th>2</th>\n",
       "      <td>Adelina</td>\n",
       "      <td>1</td>\n",
       "      <td>100%</td>\n",
       "      <td>2</td>\n",
       "      <td>4.7</td>\n",
       "    </tr>\n",
       "    <tr>\n",
       "      <th>3</th>\n",
       "      <td>Akilah</td>\n",
       "      <td>1</td>\n",
       "      <td>100%</td>\n",
       "      <td>2</td>\n",
       "      <td>4.9</td>\n",
       "    </tr>\n",
       "    <tr>\n",
       "      <th>4</th>\n",
       "      <td>Alec</td>\n",
       "      <td>21</td>\n",
       "      <td>76%</td>\n",
       "      <td>11</td>\n",
       "      <td>5.0</td>\n",
       "    </tr>\n",
       "    <tr>\n",
       "      <th>5</th>\n",
       "      <td>Alesha</td>\n",
       "      <td>7</td>\n",
       "      <td>100%</td>\n",
       "      <td>4</td>\n",
       "      <td>4.8</td>\n",
       "    </tr>\n",
       "    <tr>\n",
       "      <th>6</th>\n",
       "      <td>Alvaro</td>\n",
       "      <td>17</td>\n",
       "      <td>88%</td>\n",
       "      <td>11</td>\n",
       "      <td>4.6</td>\n",
       "    </tr>\n",
       "    <tr>\n",
       "      <th>7</th>\n",
       "      <td>Andra</td>\n",
       "      <td>16</td>\n",
       "      <td>94%</td>\n",
       "      <td>11</td>\n",
       "      <td>4.6</td>\n",
       "    </tr>\n",
       "    <tr>\n",
       "      <th>8</th>\n",
       "      <td>Augusta</td>\n",
       "      <td>19</td>\n",
       "      <td>84%</td>\n",
       "      <td>11</td>\n",
       "      <td>4.7</td>\n",
       "    </tr>\n",
       "    <tr>\n",
       "      <th>9</th>\n",
       "      <td>Aurora</td>\n",
       "      <td>10</td>\n",
       "      <td>90%</td>\n",
       "      <td>4</td>\n",
       "      <td>4.6</td>\n",
       "    </tr>\n",
       "  </tbody>\n",
       "</table>\n",
       "</div>"
      ],
      "text/plain": [
       "      Name  Trips Completed Accept Rate  Supply Hours  Rating\n",
       "0    Abdul                1        100%             3     4.8\n",
       "1  Abraham               12         83%             5     4.7\n",
       "2  Adelina                1        100%             2     4.7\n",
       "3   Akilah                1        100%             2     4.9\n",
       "4     Alec               21         76%            11     5.0\n",
       "5   Alesha                7        100%             4     4.8\n",
       "6   Alvaro               17         88%            11     4.6\n",
       "7    Andra               16         94%            11     4.6\n",
       "8  Augusta               19         84%            11     4.7\n",
       "9   Aurora               10         90%             4     4.6"
      ]
     },
     "execution_count": 2,
     "metadata": {},
     "output_type": "execute_result"
    }
   ],
   "source": [
    "df = pd.read_csv('dataset_2.csv')\n",
    "df.head(10)"
   ]
  },
  {
   "cell_type": "markdown",
   "id": "10b25fc2",
   "metadata": {},
   "source": [
    "Examine info"
   ]
  },
  {
   "cell_type": "code",
   "execution_count": 3,
   "id": "d6d88755",
   "metadata": {},
   "outputs": [
    {
     "name": "stdout",
     "output_type": "stream",
     "text": [
      "<class 'pandas.core.frame.DataFrame'>\n",
      "RangeIndex: 119 entries, 0 to 118\n",
      "Data columns (total 5 columns):\n",
      " #   Column           Non-Null Count  Dtype  \n",
      "---  ------           --------------  -----  \n",
      " 0   Name             119 non-null    object \n",
      " 1   Trips Completed  119 non-null    int64  \n",
      " 2   Accept Rate      119 non-null    object \n",
      " 3   Supply Hours     119 non-null    int64  \n",
      " 4   Rating           119 non-null    float64\n",
      "dtypes: float64(1), int64(2), object(2)\n",
      "memory usage: 4.8+ KB\n"
     ]
    }
   ],
   "source": [
    "df.info()"
   ]
  },
  {
   "cell_type": "markdown",
   "id": "2fcd455b",
   "metadata": {},
   "source": [
    "Convert accept rate to float from string to force conditions later"
   ]
  },
  {
   "cell_type": "code",
   "execution_count": 4,
   "id": "4155ba34",
   "metadata": {},
   "outputs": [
    {
     "data": {
      "text/html": [
       "<div>\n",
       "<style scoped>\n",
       "    .dataframe tbody tr th:only-of-type {\n",
       "        vertical-align: middle;\n",
       "    }\n",
       "\n",
       "    .dataframe tbody tr th {\n",
       "        vertical-align: top;\n",
       "    }\n",
       "\n",
       "    .dataframe thead th {\n",
       "        text-align: right;\n",
       "    }\n",
       "</style>\n",
       "<table border=\"1\" class=\"dataframe\">\n",
       "  <thead>\n",
       "    <tr style=\"text-align: right;\">\n",
       "      <th></th>\n",
       "      <th>Name</th>\n",
       "      <th>Trips Completed</th>\n",
       "      <th>Accept Rate</th>\n",
       "      <th>Supply Hours</th>\n",
       "      <th>Rating</th>\n",
       "    </tr>\n",
       "  </thead>\n",
       "  <tbody>\n",
       "    <tr>\n",
       "      <th>0</th>\n",
       "      <td>Abdul</td>\n",
       "      <td>1</td>\n",
       "      <td>100.0</td>\n",
       "      <td>3</td>\n",
       "      <td>4.8</td>\n",
       "    </tr>\n",
       "    <tr>\n",
       "      <th>1</th>\n",
       "      <td>Abraham</td>\n",
       "      <td>12</td>\n",
       "      <td>83.0</td>\n",
       "      <td>5</td>\n",
       "      <td>4.7</td>\n",
       "    </tr>\n",
       "    <tr>\n",
       "      <th>2</th>\n",
       "      <td>Adelina</td>\n",
       "      <td>1</td>\n",
       "      <td>100.0</td>\n",
       "      <td>2</td>\n",
       "      <td>4.7</td>\n",
       "    </tr>\n",
       "    <tr>\n",
       "      <th>3</th>\n",
       "      <td>Akilah</td>\n",
       "      <td>1</td>\n",
       "      <td>100.0</td>\n",
       "      <td>2</td>\n",
       "      <td>4.9</td>\n",
       "    </tr>\n",
       "    <tr>\n",
       "      <th>4</th>\n",
       "      <td>Alec</td>\n",
       "      <td>21</td>\n",
       "      <td>76.0</td>\n",
       "      <td>11</td>\n",
       "      <td>5.0</td>\n",
       "    </tr>\n",
       "  </tbody>\n",
       "</table>\n",
       "</div>"
      ],
      "text/plain": [
       "      Name  Trips Completed  Accept Rate  Supply Hours  Rating\n",
       "0    Abdul                1        100.0             3     4.8\n",
       "1  Abraham               12         83.0             5     4.7\n",
       "2  Adelina                1        100.0             2     4.7\n",
       "3   Akilah                1        100.0             2     4.9\n",
       "4     Alec               21         76.0            11     5.0"
      ]
     },
     "execution_count": 4,
     "metadata": {},
     "output_type": "execute_result"
    }
   ],
   "source": [
    "df['Accept Rate'] = df['Accept Rate'].apply(lambda x: float(x[:-1]))\n",
    "df.head()"
   ]
  },
  {
   "cell_type": "markdown",
   "id": "a1e8a03b",
   "metadata": {},
   "source": [
    "Make plot_counts function"
   ]
  },
  {
   "cell_type": "code",
   "execution_count": 11,
   "id": "5e7030ca",
   "metadata": {},
   "outputs": [],
   "source": [
    "def plot_counts(ax):\n",
    "\n",
    "    for c in ax.containers:\n",
    "\n",
    "        # Optional: if the segment is small or 0, customize the labels\n",
    "        labels = [v.get_height() if v.get_height() > 0 else '' for v in c]\n",
    "\n",
    "        # Remove the labels parameter if it's not needed for customized labels\n",
    "        ax.bar_label(c, labels=labels, label_type='center', fontsize=8)\n",
    "    plt.ylabel(\"Count\")\n",
    "    plt.show() "
   ]
  },
  {
   "cell_type": "markdown",
   "id": "54538b96",
   "metadata": {},
   "source": [
    "Define figure size"
   ]
  },
  {
   "cell_type": "code",
   "execution_count": 12,
   "id": "8865eeb2",
   "metadata": {},
   "outputs": [],
   "source": [
    "plt.rcParams[\"figure.figsize\"] = (12,6)"
   ]
  },
  {
   "cell_type": "markdown",
   "id": "715d19af",
   "metadata": {},
   "source": [
    "Plot bar chart"
   ]
  },
  {
   "cell_type": "code",
   "execution_count": 16,
   "id": "edff9cbc",
   "metadata": {},
   "outputs": [
    {
     "data": {
      "image/png": "[encoded data removed]",
      "text/plain": [
       "<Figure size 1200x600 with 1 Axes>"
      ]
     },
     "metadata": {},
     "output_type": "display_data"
    }
   ],
   "source": [
    "ax = df.groupby(\"Accept Rate\")[\"Name\"].count().reset_index().plot(\n",
    "    kind='bar', stacked=False, x='Accept Rate', color='plum', legend=False)\n",
    "plot_counts(ax)"
   ]
  },
  {
   "cell_type": "markdown",
   "id": "f0f69685",
   "metadata": {},
   "source": [
    "Map ratings graph"
   ]
  },
  {
   "cell_type": "code",
   "execution_count": 17,
   "id": "6556d189",
   "metadata": {},
   "outputs": [
    {
     "data": {
      "image/png": "[encoded data removed]",
      "text/plain": [
       "<Figure size 1200x600 with 1 Axes>"
      ]
     },
     "metadata": {},
     "output_type": "display_data"
    }
   ],
   "source": [
    "ax = df.groupby(\"Rating\")[\"Name\"].count().reset_index().plot(\n",
    "    kind='bar', stacked=False, x='Rating', color='pink',legend=False)\n",
    "plot_counts(ax)"
   ]
  },
  {
   "cell_type": "markdown",
   "id": "a477aefd",
   "metadata": {},
   "source": [
    "Create Trips Completed column graph"
   ]
  },
  {
   "cell_type": "code",
   "execution_count": 18,
   "id": "1276f78e",
   "metadata": {},
   "outputs": [
    {
     "data": {
      "image/png": "[encoded data removed]",
      "text/plain": [
       "<Figure size 1200x600 with 1 Axes>"
      ]
     },
     "metadata": {},
     "output_type": "display_data"
    }
   ],
   "source": [
    "ax = df.groupby(\"Trips Completed\")[\"Name\"].count().reset_index().plot(\n",
    "    kind='bar', stacked=False, x='Trips Completed', color='c', legend=False)\n",
    "plot_counts(ax)"
   ]
  },
  {
   "cell_type": "markdown",
   "id": "e7d91ec4",
   "metadata": {},
   "source": [
    "Graph the drivers' working hours"
   ]
  },
  {
   "cell_type": "code",
   "execution_count": 21,
   "id": "89e20c73",
   "metadata": {},
   "outputs": [
    {
     "data": {
      "image/png": "[encoded data removed]",
      "text/plain": [
       "<Figure size 1200x600 with 1 Axes>"
      ]
     },
     "metadata": {},
     "output_type": "display_data"
    }
   ],
   "source": [
    "ax = df.groupby(\"Supply Hours\")[\"Name\"].count().reset_index().plot(\n",
    "    kind='bar', stacked=False, x='Supply Hours', color='lavender',legend=False)\n",
    "plot_counts(ax)"
   ]
  },
  {
   "cell_type": "markdown",
   "id": "af371a34",
   "metadata": {},
   "source": [
    "## Scenario 1"
   ]
  },
  {
   "cell_type": "markdown",
   "id": "0b9c09cb",
   "metadata": {},
   "source": [
    "It is going to be a huge Saturday and there will need to be many more cars on the road than last week. In order to get drivers to go online, we're assessing the following two bonus options in terms of cost:\n",
    "\n",
    "* Option 1: $50 for each driver that is online at least 8 hours, accepts 90% of requests, completes 10 trips, and has a rating of 4.7 or better during the time frame;\n",
    "\n",
    "* Option 2: $4/trip for all drivers who complete 12 trips, and have a 4.7 or better rating."
   ]
  },
  {
   "cell_type": "markdown",
   "id": "f461ca56",
   "metadata": {},
   "source": [
    "#### Q1. How much would the total bonus payout be with Option 1?"
   ]
  },
  {
   "cell_type": "markdown",
   "id": "f3cb44ef",
   "metadata": {},
   "source": [
    "To identify drivers who are eligible for the $50 bonus according to the first option, we need to apply the following four conditions:\n",
    "\n",
    "* Online for 8 hours or more\n",
    "* Accept rate equal to or higher than 90%\n",
    "* Should complete 10 or more trips\n",
    "* Maintain a rating of 4.7 or more"
   ]
  },
  {
   "cell_type": "code",
   "execution_count": 20,
   "id": "6fbac9f2",
   "metadata": {},
   "outputs": [
    {
     "data": {
      "text/html": [
       "<div>\n",
       "<style scoped>\n",
       "    .dataframe tbody tr th:only-of-type {\n",
       "        vertical-align: middle;\n",
       "    }\n",
       "\n",
       "    .dataframe tbody tr th {\n",
       "        vertical-align: top;\n",
       "    }\n",
       "\n",
       "    .dataframe thead th {\n",
       "        text-align: right;\n",
       "    }\n",
       "</style>\n",
       "<table border=\"1\" class=\"dataframe\">\n",
       "  <thead>\n",
       "    <tr style=\"text-align: right;\">\n",
       "      <th></th>\n",
       "      <th>Name</th>\n",
       "      <th>Trips Completed</th>\n",
       "      <th>Accept Rate</th>\n",
       "      <th>Supply Hours</th>\n",
       "      <th>Rating</th>\n",
       "    </tr>\n",
       "  </thead>\n",
       "  <tbody>\n",
       "    <tr>\n",
       "      <th>11</th>\n",
       "      <td>Byron</td>\n",
       "      <td>15</td>\n",
       "      <td>100.0</td>\n",
       "      <td>10</td>\n",
       "      <td>4.9</td>\n",
       "    </tr>\n",
       "    <tr>\n",
       "      <th>12</th>\n",
       "      <td>Carlota</td>\n",
       "      <td>14</td>\n",
       "      <td>100.0</td>\n",
       "      <td>8</td>\n",
       "      <td>5.0</td>\n",
       "    </tr>\n",
       "    <tr>\n",
       "      <th>19</th>\n",
       "      <td>Dannette</td>\n",
       "      <td>14</td>\n",
       "      <td>100.0</td>\n",
       "      <td>9</td>\n",
       "      <td>4.9</td>\n",
       "    </tr>\n",
       "    <tr>\n",
       "      <th>23</th>\n",
       "      <td>Demetrius</td>\n",
       "      <td>14</td>\n",
       "      <td>100.0</td>\n",
       "      <td>9</td>\n",
       "      <td>5.0</td>\n",
       "    </tr>\n",
       "    <tr>\n",
       "      <th>26</th>\n",
       "      <td>Dimple</td>\n",
       "      <td>15</td>\n",
       "      <td>100.0</td>\n",
       "      <td>10</td>\n",
       "      <td>4.9</td>\n",
       "    </tr>\n",
       "  </tbody>\n",
       "</table>\n",
       "</div>"
      ],
      "text/plain": [
       "         Name  Trips Completed  Accept Rate  Supply Hours  Rating\n",
       "11      Byron               15        100.0            10     4.9\n",
       "12    Carlota               14        100.0             8     5.0\n",
       "19   Dannette               14        100.0             9     4.9\n",
       "23  Demetrius               14        100.0             9     5.0\n",
       "26     Dimple               15        100.0            10     4.9"
      ]
     },
     "execution_count": 20,
     "metadata": {},
     "output_type": "execute_result"
    }
   ],
   "source": [
    "# Filter by given condition\n",
    "first_option_df = df[(df['Supply Hours'] >= 8) & (df['Trips Completed'] >= 10) & \n",
    "                     (df['Accept Rate'] >= 90) & (df['Rating'] >= 4.7)]\n",
    "first_option_df.head()"
   ]
  },
  {
   "cell_type": "markdown",
   "id": "74c56f27",
   "metadata": {},
   "source": [
    "To calculate the total cost, we need to multiply the number of eligible drivers in the first_option_df DataFrame by $50 and then print the result. "
   ]
  },
  {
   "cell_type": "code",
   "execution_count": 23,
   "id": "47775ac7",
   "metadata": {},
   "outputs": [
    {
     "name": "stdout",
     "output_type": "stream",
     "text": [
      "$1050\n"
     ]
    }
   ],
   "source": [
    "first_option_total_payout = 50 * len(first_option_df)\n",
    "print('$'+str(first_option_total_payout))"
   ]
  },
  {
   "cell_type": "markdown",
   "id": "a38ad268",
   "metadata": {},
   "source": [
    "First, add a dollar sign to the beginning of the output and filter the df DataFrame based on the conditions that we already mentioned.\n",
    "\n",
    "Then, determine the number of drivers who meet the conditions using the shape attribute, multiply this number by $50, and return the result as a string using multiple str methods."
   ]
  },
  {
   "cell_type": "code",
   "execution_count": 24,
   "id": "6e13a0de",
   "metadata": {},
   "outputs": [
    {
     "data": {
      "text/plain": [
       "'$1050'"
      ]
     },
     "execution_count": 24,
     "metadata": {},
     "output_type": "execute_result"
    }
   ],
   "source": [
    "str(\"$\") + str(df[(df[\"Supply Hours\"] >= 8) & (df[\"Accept Rate\"] >= 90) & (df[\"Trips Completed\"] >= 10) & (df[\"Rating\"] >= 4.7)].shape[0]*50)"
   ]
  },
  {
   "cell_type": "markdown",
   "id": "942f89fe",
   "metadata": {},
   "source": [
    "#### Q2. How much would the total bonus payout be with Option 2?"
   ]
  },
  {
   "cell_type": "markdown",
   "id": "9139001f",
   "metadata": {},
   "source": [
    "The code that we need should filter the DataFrame based on the given conditions:\n",
    "\n",
    "* Complete more than 12 trips\n",
    "* Maintain a 4.7 or more rating\n",
    "\n",
    "Then we will assign the resulting DataFrame to second_option_df, which is displayed using the head() function to show the first few rows.\n",
    "\n",
    "Again, we will use boolean indexing to filter our DataFrame."
   ]
  },
  {
   "cell_type": "code",
   "execution_count": 27,
   "id": "d920e1fc",
   "metadata": {},
   "outputs": [
    {
     "data": {
      "text/html": [
       "<div>\n",
       "<style scoped>\n",
       "    .dataframe tbody tr th:only-of-type {\n",
       "        vertical-align: middle;\n",
       "    }\n",
       "\n",
       "    .dataframe tbody tr th {\n",
       "        vertical-align: top;\n",
       "    }\n",
       "\n",
       "    .dataframe thead th {\n",
       "        text-align: right;\n",
       "    }\n",
       "</style>\n",
       "<table border=\"1\" class=\"dataframe\">\n",
       "  <thead>\n",
       "    <tr style=\"text-align: right;\">\n",
       "      <th></th>\n",
       "      <th>Name</th>\n",
       "      <th>Trips Completed</th>\n",
       "      <th>Accept Rate</th>\n",
       "      <th>Supply Hours</th>\n",
       "      <th>Rating</th>\n",
       "    </tr>\n",
       "  </thead>\n",
       "  <tbody>\n",
       "    <tr>\n",
       "      <th>1</th>\n",
       "      <td>Abraham</td>\n",
       "      <td>12</td>\n",
       "      <td>83.0</td>\n",
       "      <td>5</td>\n",
       "      <td>4.7</td>\n",
       "    </tr>\n",
       "    <tr>\n",
       "      <th>4</th>\n",
       "      <td>Alec</td>\n",
       "      <td>21</td>\n",
       "      <td>76.0</td>\n",
       "      <td>11</td>\n",
       "      <td>5.0</td>\n",
       "    </tr>\n",
       "    <tr>\n",
       "      <th>8</th>\n",
       "      <td>Augusta</td>\n",
       "      <td>19</td>\n",
       "      <td>84.0</td>\n",
       "      <td>11</td>\n",
       "      <td>4.7</td>\n",
       "    </tr>\n",
       "    <tr>\n",
       "      <th>10</th>\n",
       "      <td>Buffy</td>\n",
       "      <td>13</td>\n",
       "      <td>54.0</td>\n",
       "      <td>6</td>\n",
       "      <td>5.0</td>\n",
       "    </tr>\n",
       "    <tr>\n",
       "      <th>11</th>\n",
       "      <td>Byron</td>\n",
       "      <td>15</td>\n",
       "      <td>100.0</td>\n",
       "      <td>10</td>\n",
       "      <td>4.9</td>\n",
       "    </tr>\n",
       "  </tbody>\n",
       "</table>\n",
       "</div>"
      ],
      "text/plain": [
       "       Name  Trips Completed  Accept Rate  Supply Hours  Rating\n",
       "1   Abraham               12         83.0             5     4.7\n",
       "4      Alec               21         76.0            11     5.0\n",
       "8   Augusta               19         84.0            11     4.7\n",
       "10    Buffy               13         54.0             6     5.0\n",
       "11    Byron               15        100.0            10     4.9"
      ]
     },
     "execution_count": 27,
     "metadata": {},
     "output_type": "execute_result"
    }
   ],
   "source": [
    "# Filter by given condition\n",
    "second_option_df = df[(df['Trips Completed'] >= 12) & (df['Rating'] >= 4.7)]\n",
    "second_option_df.head()"
   ]
  },
  {
   "cell_type": "markdown",
   "id": "e6fd777f",
   "metadata": {},
   "source": [
    "We need to calculate the total payout for the second option by adding the fare earned by completing 12 or more trips. This is calculated by summing the completed trips and multiplying it by 4, then adding a dollar sign at the beginning of the result by converting the result to a string with the str() function."
   ]
  },
  {
   "cell_type": "code",
   "execution_count": 28,
   "id": "46a737b7",
   "metadata": {},
   "outputs": [
    {
     "name": "stdout",
     "output_type": "stream",
     "text": [
      "$2976\n"
     ]
    }
   ],
   "source": [
    "second_option_total_payout = 4 * second_option_df['Trips Completed'].sum()\n",
    "print('$'+str(second_option_total_payout))"
   ]
  },
  {
   "cell_type": "markdown",
   "id": "89916732",
   "metadata": {},
   "source": [
    "The shorter way would be to add a dollar sign at the beginning of our code, then use the boolean indexing.\n",
    "\n",
    "After that, use the sum() method to calculate the total and then multiply it by 4 to calculate how much the second option would cost."
   ]
  },
  {
   "cell_type": "code",
   "execution_count": 29,
   "id": "8d2166df",
   "metadata": {},
   "outputs": [
    {
     "data": {
      "text/plain": [
       "'$2976'"
      ]
     },
     "execution_count": 29,
     "metadata": {},
     "output_type": "execute_result"
    }
   ],
   "source": [
    "str(\"$\") + str(df[(df[\"Trips Completed\"] >= 12) & (df[\"Rating\"] >= 4.7)][\"Trips Completed\"].sum() * 4)"
   ]
  },
  {
   "cell_type": "markdown",
   "id": "8cdf03fe",
   "metadata": {},
   "source": [
    "#### Q3. How many drivers would qualify for a bonus under Option 1 but not under Option 2?"
   ]
  },
  {
   "cell_type": "markdown",
   "id": "a32a858d",
   "metadata": {},
   "source": [
    "Our code will merge the two DataFrames used for Option 1 and Option 2 and add an argument to find drivers who qualify for a bonus under Option 1 but not Option 2. It will do that by adding an indicator column to the merged DataFrame."
   ]
  },
  {
   "cell_type": "code",
   "execution_count": 30,
   "id": "558a41f3",
   "metadata": {},
   "outputs": [
    {
     "data": {
      "text/html": [
       "<div>\n",
       "<style scoped>\n",
       "    .dataframe tbody tr th:only-of-type {\n",
       "        vertical-align: middle;\n",
       "    }\n",
       "\n",
       "    .dataframe tbody tr th {\n",
       "        vertical-align: top;\n",
       "    }\n",
       "\n",
       "    .dataframe thead th {\n",
       "        text-align: right;\n",
       "    }\n",
       "</style>\n",
       "<table border=\"1\" class=\"dataframe\">\n",
       "  <thead>\n",
       "    <tr style=\"text-align: right;\">\n",
       "      <th></th>\n",
       "      <th>Name</th>\n",
       "      <th>Trips Completed</th>\n",
       "      <th>Accept Rate</th>\n",
       "      <th>Supply Hours</th>\n",
       "      <th>Rating</th>\n",
       "      <th>_merge</th>\n",
       "    </tr>\n",
       "  </thead>\n",
       "  <tbody>\n",
       "    <tr>\n",
       "      <th>0</th>\n",
       "      <td>Byron</td>\n",
       "      <td>15</td>\n",
       "      <td>100.0</td>\n",
       "      <td>10</td>\n",
       "      <td>4.9</td>\n",
       "      <td>both</td>\n",
       "    </tr>\n",
       "    <tr>\n",
       "      <th>1</th>\n",
       "      <td>Carlota</td>\n",
       "      <td>14</td>\n",
       "      <td>100.0</td>\n",
       "      <td>8</td>\n",
       "      <td>5.0</td>\n",
       "      <td>both</td>\n",
       "    </tr>\n",
       "    <tr>\n",
       "      <th>2</th>\n",
       "      <td>Dannette</td>\n",
       "      <td>14</td>\n",
       "      <td>100.0</td>\n",
       "      <td>9</td>\n",
       "      <td>4.9</td>\n",
       "      <td>both</td>\n",
       "    </tr>\n",
       "    <tr>\n",
       "      <th>3</th>\n",
       "      <td>Demetrius</td>\n",
       "      <td>14</td>\n",
       "      <td>100.0</td>\n",
       "      <td>9</td>\n",
       "      <td>5.0</td>\n",
       "      <td>both</td>\n",
       "    </tr>\n",
       "    <tr>\n",
       "      <th>4</th>\n",
       "      <td>Dimple</td>\n",
       "      <td>15</td>\n",
       "      <td>100.0</td>\n",
       "      <td>10</td>\n",
       "      <td>4.9</td>\n",
       "      <td>both</td>\n",
       "    </tr>\n",
       "    <tr>\n",
       "      <th>5</th>\n",
       "      <td>Emil</td>\n",
       "      <td>12</td>\n",
       "      <td>100.0</td>\n",
       "      <td>9</td>\n",
       "      <td>5.0</td>\n",
       "      <td>both</td>\n",
       "    </tr>\n",
       "    <tr>\n",
       "      <th>6</th>\n",
       "      <td>Garth</td>\n",
       "      <td>15</td>\n",
       "      <td>100.0</td>\n",
       "      <td>10</td>\n",
       "      <td>5.0</td>\n",
       "      <td>both</td>\n",
       "    </tr>\n",
       "    <tr>\n",
       "      <th>7</th>\n",
       "      <td>Hanh</td>\n",
       "      <td>14</td>\n",
       "      <td>94.0</td>\n",
       "      <td>9</td>\n",
       "      <td>4.9</td>\n",
       "      <td>both</td>\n",
       "    </tr>\n",
       "    <tr>\n",
       "      <th>8</th>\n",
       "      <td>Keshia</td>\n",
       "      <td>20</td>\n",
       "      <td>100.0</td>\n",
       "      <td>11</td>\n",
       "      <td>4.8</td>\n",
       "      <td>both</td>\n",
       "    </tr>\n",
       "    <tr>\n",
       "      <th>9</th>\n",
       "      <td>Latonia</td>\n",
       "      <td>13</td>\n",
       "      <td>100.0</td>\n",
       "      <td>9</td>\n",
       "      <td>5.0</td>\n",
       "      <td>both</td>\n",
       "    </tr>\n",
       "    <tr>\n",
       "      <th>10</th>\n",
       "      <td>Luanne</td>\n",
       "      <td>12</td>\n",
       "      <td>96.0</td>\n",
       "      <td>11</td>\n",
       "      <td>4.9</td>\n",
       "      <td>both</td>\n",
       "    </tr>\n",
       "    <tr>\n",
       "      <th>11</th>\n",
       "      <td>Lyndsey</td>\n",
       "      <td>13</td>\n",
       "      <td>94.0</td>\n",
       "      <td>11</td>\n",
       "      <td>4.9</td>\n",
       "      <td>both</td>\n",
       "    </tr>\n",
       "    <tr>\n",
       "      <th>12</th>\n",
       "      <td>Lynwood</td>\n",
       "      <td>21</td>\n",
       "      <td>95.0</td>\n",
       "      <td>10</td>\n",
       "      <td>5.0</td>\n",
       "      <td>both</td>\n",
       "    </tr>\n",
       "    <tr>\n",
       "      <th>13</th>\n",
       "      <td>Man</td>\n",
       "      <td>23</td>\n",
       "      <td>100.0</td>\n",
       "      <td>10</td>\n",
       "      <td>5.0</td>\n",
       "      <td>both</td>\n",
       "    </tr>\n",
       "    <tr>\n",
       "      <th>14</th>\n",
       "      <td>Marica</td>\n",
       "      <td>16</td>\n",
       "      <td>90.0</td>\n",
       "      <td>10</td>\n",
       "      <td>5.0</td>\n",
       "      <td>both</td>\n",
       "    </tr>\n",
       "    <tr>\n",
       "      <th>15</th>\n",
       "      <td>Natalie</td>\n",
       "      <td>16</td>\n",
       "      <td>94.0</td>\n",
       "      <td>8</td>\n",
       "      <td>4.9</td>\n",
       "      <td>both</td>\n",
       "    </tr>\n",
       "    <tr>\n",
       "      <th>16</th>\n",
       "      <td>Oren</td>\n",
       "      <td>11</td>\n",
       "      <td>91.0</td>\n",
       "      <td>9</td>\n",
       "      <td>4.8</td>\n",
       "      <td>left_only</td>\n",
       "    </tr>\n",
       "    <tr>\n",
       "      <th>17</th>\n",
       "      <td>Phyllis</td>\n",
       "      <td>10</td>\n",
       "      <td>90.0</td>\n",
       "      <td>8</td>\n",
       "      <td>4.8</td>\n",
       "      <td>left_only</td>\n",
       "    </tr>\n",
       "    <tr>\n",
       "      <th>18</th>\n",
       "      <td>Salvador</td>\n",
       "      <td>15</td>\n",
       "      <td>100.0</td>\n",
       "      <td>11</td>\n",
       "      <td>4.8</td>\n",
       "      <td>both</td>\n",
       "    </tr>\n",
       "    <tr>\n",
       "      <th>19</th>\n",
       "      <td>Shandra</td>\n",
       "      <td>14</td>\n",
       "      <td>100.0</td>\n",
       "      <td>8</td>\n",
       "      <td>4.9</td>\n",
       "      <td>both</td>\n",
       "    </tr>\n",
       "    <tr>\n",
       "      <th>20</th>\n",
       "      <td>Vashti</td>\n",
       "      <td>12</td>\n",
       "      <td>92.0</td>\n",
       "      <td>11</td>\n",
       "      <td>4.9</td>\n",
       "      <td>both</td>\n",
       "    </tr>\n",
       "  </tbody>\n",
       "</table>\n",
       "</div>"
      ],
      "text/plain": [
       "         Name  Trips Completed  Accept Rate  Supply Hours  Rating     _merge\n",
       "0       Byron               15        100.0            10     4.9       both\n",
       "1     Carlota               14        100.0             8     5.0       both\n",
       "2    Dannette               14        100.0             9     4.9       both\n",
       "3   Demetrius               14        100.0             9     5.0       both\n",
       "4      Dimple               15        100.0            10     4.9       both\n",
       "5        Emil               12        100.0             9     5.0       both\n",
       "6       Garth               15        100.0            10     5.0       both\n",
       "7        Hanh               14         94.0             9     4.9       both\n",
       "8      Keshia               20        100.0            11     4.8       both\n",
       "9     Latonia               13        100.0             9     5.0       both\n",
       "10     Luanne               12         96.0            11     4.9       both\n",
       "11    Lyndsey               13         94.0            11     4.9       both\n",
       "12    Lynwood               21         95.0            10     5.0       both\n",
       "13        Man               23        100.0            10     5.0       both\n",
       "14     Marica               16         90.0            10     5.0       both\n",
       "15    Natalie               16         94.0             8     4.9       both\n",
       "16       Oren               11         91.0             9     4.8  left_only\n",
       "17    Phyllis               10         90.0             8     4.8  left_only\n",
       "18   Salvador               15        100.0            11     4.8       both\n",
       "19    Shandra               14        100.0             8     4.9       both\n",
       "20     Vashti               12         92.0            11     4.9       both"
      ]
     },
     "execution_count": 30,
     "metadata": {},
     "output_type": "execute_result"
    }
   ],
   "source": [
    "# Merge all and see if both dataset includes the driver from _merge column\n",
    "df_all = first_option_df.merge(second_option_df, on=first_option_df.columns.to_list(), \n",
    "                   how='left', indicator=True)\n",
    "df_all"
   ]
  },
  {
   "cell_type": "markdown",
   "id": "c3ec7fa8",
   "metadata": {},
   "source": [
    "The newly merged DataFrame includes a column named _merge to indicate the origin of the rows.\n",
    "\n",
    "By filtering the rows with the left_only value in the _merge column, we can select the drivers who qualify for a bonus under Option 1 but not under Option 2."
   ]
  },
  {
   "cell_type": "code",
   "execution_count": 31,
   "id": "8bb7f558",
   "metadata": {},
   "outputs": [
    {
     "data": {
      "text/html": [
       "<div>\n",
       "<style scoped>\n",
       "    .dataframe tbody tr th:only-of-type {\n",
       "        vertical-align: middle;\n",
       "    }\n",
       "\n",
       "    .dataframe tbody tr th {\n",
       "        vertical-align: top;\n",
       "    }\n",
       "\n",
       "    .dataframe thead th {\n",
       "        text-align: right;\n",
       "    }\n",
       "</style>\n",
       "<table border=\"1\" class=\"dataframe\">\n",
       "  <thead>\n",
       "    <tr style=\"text-align: right;\">\n",
       "      <th></th>\n",
       "      <th>Name</th>\n",
       "      <th>Trips Completed</th>\n",
       "      <th>Accept Rate</th>\n",
       "      <th>Supply Hours</th>\n",
       "      <th>Rating</th>\n",
       "      <th>_merge</th>\n",
       "    </tr>\n",
       "  </thead>\n",
       "  <tbody>\n",
       "    <tr>\n",
       "      <th>16</th>\n",
       "      <td>Oren</td>\n",
       "      <td>11</td>\n",
       "      <td>91.0</td>\n",
       "      <td>9</td>\n",
       "      <td>4.8</td>\n",
       "      <td>left_only</td>\n",
       "    </tr>\n",
       "    <tr>\n",
       "      <th>17</th>\n",
       "      <td>Phyllis</td>\n",
       "      <td>10</td>\n",
       "      <td>90.0</td>\n",
       "      <td>8</td>\n",
       "      <td>4.8</td>\n",
       "      <td>left_only</td>\n",
       "    </tr>\n",
       "  </tbody>\n",
       "</table>\n",
       "</div>"
      ],
      "text/plain": [
       "       Name  Trips Completed  Accept Rate  Supply Hours  Rating     _merge\n",
       "16     Oren               11         91.0             9     4.8  left_only\n",
       "17  Phyllis               10         90.0             8     4.8  left_only"
      ]
     },
     "execution_count": 31,
     "metadata": {},
     "output_type": "execute_result"
    }
   ],
   "source": [
    "# Included by only option 1\n",
    "df_all[df_all[\"_merge\"] == 'left_only']"
   ]
  },
  {
   "cell_type": "markdown",
   "id": "31f17ec0",
   "metadata": {},
   "source": [
    "Here we will use the index.difference method.\n",
    "\n",
    "This method helps us find the drivers who qualify for a bonus under Option 1 but not under Option 2.\n",
    "\n",
    "So in the first part, we define Option 1 with boolean indexing. In the second part, we will define Option 2, again with boolean indexing.\n",
    "\n",
    "Then we use the index.difference method to find the difference between Option 1 and Option 2, which will be an answer to our question."
   ]
  },
  {
   "cell_type": "code",
   "execution_count": 32,
   "id": "0dd41ead",
   "metadata": {},
   "outputs": [
    {
     "data": {
      "text/plain": [
       "2"
      ]
     },
     "execution_count": 32,
     "metadata": {},
     "output_type": "execute_result"
    }
   ],
   "source": [
    "len(df[(df[\"Supply Hours\"] >= 8) & (df[\"Accept Rate\"] >= 90) & (df[\"Trips Completed\"] >= 10) & (df[\"Rating\"] >= 4.7)].index.difference(df[(df[\"Trips Completed\"] >= 12) & (df[\"Rating\"] >= 4.7)].index))"
   ]
  },
  {
   "cell_type": "markdown",
   "id": "293001f6",
   "metadata": {},
   "source": [
    "#### Q4. What percentages of drivers online completed less than 10 trips, had an acceptance rate of less than 90%, and had a rating of 4.7 or higher?"
   ]
  },
  {
   "cell_type": "markdown",
   "id": "bdd67100",
   "metadata": {},
   "source": [
    "We will filter the dataset based on the following conditions:\n",
    "\n",
    "* Completed less than 10 trips\n",
    "* Acceptance rate less than 90%\n",
    "* Rating is 4.7 or higher\n",
    "\n",
    "We will then store the resulting rows in the new DataFrame called less_trips_df.\n",
    "\n",
    "We will solve this question in a similar way to the first, second, and third questions by filtering the dataset using multiple conditions."
   ]
  },
  {
   "cell_type": "code",
   "execution_count": 34,
   "id": "8f671f1b",
   "metadata": {},
   "outputs": [
    {
     "data": {
      "text/html": [
       "<div>\n",
       "<style scoped>\n",
       "    .dataframe tbody tr th:only-of-type {\n",
       "        vertical-align: middle;\n",
       "    }\n",
       "\n",
       "    .dataframe tbody tr th {\n",
       "        vertical-align: top;\n",
       "    }\n",
       "\n",
       "    .dataframe thead th {\n",
       "        text-align: right;\n",
       "    }\n",
       "</style>\n",
       "<table border=\"1\" class=\"dataframe\">\n",
       "  <thead>\n",
       "    <tr style=\"text-align: right;\">\n",
       "      <th></th>\n",
       "      <th>Name</th>\n",
       "      <th>Trips Completed</th>\n",
       "      <th>Accept Rate</th>\n",
       "      <th>Supply Hours</th>\n",
       "      <th>Rating</th>\n",
       "    </tr>\n",
       "  </thead>\n",
       "  <tbody>\n",
       "    <tr>\n",
       "      <th>17</th>\n",
       "      <td>Cris</td>\n",
       "      <td>7</td>\n",
       "      <td>71.0</td>\n",
       "      <td>5</td>\n",
       "      <td>5.0</td>\n",
       "    </tr>\n",
       "    <tr>\n",
       "      <th>18</th>\n",
       "      <td>Dalila</td>\n",
       "      <td>7</td>\n",
       "      <td>57.0</td>\n",
       "      <td>2</td>\n",
       "      <td>4.8</td>\n",
       "    </tr>\n",
       "    <tr>\n",
       "      <th>20</th>\n",
       "      <td>Dannielle</td>\n",
       "      <td>3</td>\n",
       "      <td>67.0</td>\n",
       "      <td>5</td>\n",
       "      <td>5.0</td>\n",
       "    </tr>\n",
       "    <tr>\n",
       "      <th>22</th>\n",
       "      <td>Delfina</td>\n",
       "      <td>4</td>\n",
       "      <td>50.0</td>\n",
       "      <td>3</td>\n",
       "      <td>4.7</td>\n",
       "    </tr>\n",
       "    <tr>\n",
       "      <th>27</th>\n",
       "      <td>Domenica</td>\n",
       "      <td>9</td>\n",
       "      <td>89.0</td>\n",
       "      <td>5</td>\n",
       "      <td>4.9</td>\n",
       "    </tr>\n",
       "    <tr>\n",
       "      <th>36</th>\n",
       "      <td>Floyd</td>\n",
       "      <td>3</td>\n",
       "      <td>67.0</td>\n",
       "      <td>1</td>\n",
       "      <td>4.8</td>\n",
       "    </tr>\n",
       "    <tr>\n",
       "      <th>41</th>\n",
       "      <td>Hee</td>\n",
       "      <td>9</td>\n",
       "      <td>89.0</td>\n",
       "      <td>7</td>\n",
       "      <td>4.7</td>\n",
       "    </tr>\n",
       "    <tr>\n",
       "      <th>45</th>\n",
       "      <td>Ingrid</td>\n",
       "      <td>7</td>\n",
       "      <td>43.0</td>\n",
       "      <td>4</td>\n",
       "      <td>4.8</td>\n",
       "    </tr>\n",
       "    <tr>\n",
       "      <th>66</th>\n",
       "      <td>Lilla</td>\n",
       "      <td>9</td>\n",
       "      <td>89.0</td>\n",
       "      <td>8</td>\n",
       "      <td>4.7</td>\n",
       "    </tr>\n",
       "    <tr>\n",
       "      <th>67</th>\n",
       "      <td>Loree</td>\n",
       "      <td>9</td>\n",
       "      <td>89.0</td>\n",
       "      <td>8</td>\n",
       "      <td>4.7</td>\n",
       "    </tr>\n",
       "    <tr>\n",
       "      <th>97</th>\n",
       "      <td>Sanda</td>\n",
       "      <td>8</td>\n",
       "      <td>88.0</td>\n",
       "      <td>8</td>\n",
       "      <td>4.7</td>\n",
       "    </tr>\n",
       "    <tr>\n",
       "      <th>107</th>\n",
       "      <td>Tenisha</td>\n",
       "      <td>8</td>\n",
       "      <td>88.0</td>\n",
       "      <td>6</td>\n",
       "      <td>5.0</td>\n",
       "    </tr>\n",
       "    <tr>\n",
       "      <th>116</th>\n",
       "      <td>Yessenia</td>\n",
       "      <td>8</td>\n",
       "      <td>88.0</td>\n",
       "      <td>5</td>\n",
       "      <td>5.0</td>\n",
       "    </tr>\n",
       "  </tbody>\n",
       "</table>\n",
       "</div>"
      ],
      "text/plain": [
       "          Name  Trips Completed  Accept Rate  Supply Hours  Rating\n",
       "17        Cris                7         71.0             5     5.0\n",
       "18      Dalila                7         57.0             2     4.8\n",
       "20   Dannielle                3         67.0             5     5.0\n",
       "22     Delfina                4         50.0             3     4.7\n",
       "27    Domenica                9         89.0             5     4.9\n",
       "36       Floyd                3         67.0             1     4.8\n",
       "41         Hee                9         89.0             7     4.7\n",
       "45      Ingrid                7         43.0             4     4.8\n",
       "66       Lilla                9         89.0             8     4.7\n",
       "67       Loree                9         89.0             8     4.7\n",
       "97       Sanda                8         88.0             8     4.7\n",
       "107    Tenisha                8         88.0             6     5.0\n",
       "116   Yessenia                8         88.0             5     5.0"
      ]
     },
     "execution_count": 34,
     "metadata": {},
     "output_type": "execute_result"
    }
   ],
   "source": [
    "# Filter with given condition\n",
    "less_trips_df = df[(df['Trips Completed'] < 10) & (df['Accept Rate'] < 90) & (df['Rating'] >= 4.7)]\n",
    "less_trips_df"
   ]
  },
  {
   "cell_type": "markdown",
   "id": "7ec2cf86",
   "metadata": {},
   "source": [
    "Now we found the drivers, let’s find the percentage by dividing the number of drivers by the length of a DataFrame, then multiplying it by 100. After that, we will turn this result into a string and add “%” at the end of the result."
   ]
  },
  {
   "cell_type": "code",
   "execution_count": 35,
   "id": "ad1d74cf",
   "metadata": {},
   "outputs": [
    {
     "name": "stdout",
     "output_type": "stream",
     "text": [
      "10.92436974789916%\n"
     ]
    }
   ],
   "source": [
    "print(str(len(less_trips_df) / len(df) * 100)+\"%\")"
   ]
  },
  {
   "cell_type": "markdown",
   "id": "9a8e9608",
   "metadata": {},
   "source": [
    "This approach filters the conditions, finds the length of the filtered condition, and divides it by the shape of the DataFrame to find the ratio. It then multiplies the ratio by 100 to calculate the percentage and adds the \"%\" sign at the end of the result."
   ]
  },
  {
   "cell_type": "code",
   "execution_count": 36,
   "id": "9fde8ea0",
   "metadata": {},
   "outputs": [
    {
     "data": {
      "text/plain": [
       "'10.92436974789916%'"
      ]
     },
     "execution_count": 36,
     "metadata": {},
     "output_type": "execute_result"
    }
   ],
   "source": [
    "str((df[(df[\"Trips Completed\"] < 10) & (df[\"Accept Rate\"] < 90) & (df[\"Rating\"] >= 4.7)].shape[0]/ df.shape[0])*100) + str(\"%\")"
   ]
  },
  {
   "cell_type": "markdown",
   "id": "3c244ca0",
   "metadata": {},
   "source": [
    "## Scenario 2"
   ]
  },
  {
   "cell_type": "markdown",
   "id": "3400c407",
   "metadata": {},
   "source": [
    "A taxi driver currently generates $200 per day in fares (before expenses), works six days a week, takes three weeks off, and has the following expenses:\n",
    "\n",
    "* Gas: 200 USD per week\n",
    "* Insurance: 400 USD per month\n",
    "* Vehicle rent (by the week): 500 USD\n",
    "    \n",
    "The driver doesn't pay gas and rent expenses on the off weeks."
   ]
  },
  {
   "cell_type": "markdown",
   "id": "3b549de5",
   "metadata": {},
   "source": [
    "#### Q5. How much money (after expenses) does the taxi driver make per year without partnering with Uber?"
   ]
  },
  {
   "cell_type": "markdown",
   "id": "db1b66fa",
   "metadata": {},
   "source": [
    "The task is to compute the annual net income of taxi drivers given four conditions, one of which states that they will have three weeks of leave annually.\n",
    "\n",
    "We will define the variables, including total weeks (52), total_months_per_year (12), weeks_off (3), fare_per_day ($200), and workday_per_week (6), which will be used in the calculations.\n",
    "\n",
    "We will also define the expenses for each week, including $200 for gas (gas_per_week), $400 for insurance per month (insurance_per_month), and $500 for vehicle rent per week (vehicle_rent_by_week).\n",
    "\n",
    "Finally, we will compute the net earnings per year using the defined variables and expenses."
   ]
  },
  {
   "cell_type": "code",
   "execution_count": 39,
   "id": "1a76a049",
   "metadata": {},
   "outputs": [],
   "source": [
    "total_weeks_per_year = 52\n",
    "weeks_off = 3\n",
    "fare_per_day = 200 \n",
    "workday_per_week = 6\n",
    "total_months_per_year = 12\n",
    "# expenses\n",
    "gas_per_week = 200\n",
    "insurance_per_month = 400\n",
    "vehicle_rent_by_week = 500"
   ]
  },
  {
   "cell_type": "markdown",
   "id": "b3f6a566",
   "metadata": {},
   "source": [
    "The calculation will be done in three steps, starting with the total expenses for gas, rent, and insurance. Gas and rent are weekly expenses, while insurance is a monthly expense."
   ]
  },
  {
   "cell_type": "code",
   "execution_count": 40,
   "id": "b1220230",
   "metadata": {},
   "outputs": [
    {
     "name": "stdout",
     "output_type": "stream",
     "text": [
      "$39100\n"
     ]
    }
   ],
   "source": [
    "total_expenses = (gas_per_week + vehicle_rent_by_week) * (total_weeks_per_year - weeks_off) + insurance_per_month * total_months_per_year\n",
    "print(\"$\"+str(total_expenses))"
   ]
  },
  {
   "cell_type": "markdown",
   "id": "20375b14",
   "metadata": {},
   "source": [
    "Next, we will determine the total revenue by multiplying the fare per day by the number of workdays per week and the number of working weeks per year (52 minus the number of weeks off)."
   ]
  },
  {
   "cell_type": "code",
   "execution_count": 41,
   "id": "4d625bf5",
   "metadata": {},
   "outputs": [
    {
     "name": "stdout",
     "output_type": "stream",
     "text": [
      "$58800\n"
     ]
    }
   ],
   "source": [
    "total_revenue = (total_weeks_per_year - weeks_off) * workday_per_week * fare_per_day\n",
    "print(\"$\"+str(total_revenue))"
   ]
  },
  {
   "cell_type": "markdown",
   "id": "546e02ca",
   "metadata": {},
   "source": [
    "The final step involves subtracting the total expenses from the total revenue to obtain the net earnings of the driver."
   ]
  },
  {
   "cell_type": "code",
   "execution_count": 42,
   "id": "27573c30",
   "metadata": {},
   "outputs": [
    {
     "name": "stdout",
     "output_type": "stream",
     "text": [
      "$19700\n"
     ]
    }
   ],
   "source": [
    "profit_margin = total_revenue - total_expenses\n",
    "print(\"$\"+str(profit_margin))"
   ]
  },
  {
   "cell_type": "markdown",
   "id": "4980aa64",
   "metadata": {},
   "source": [
    "In this approach, we will calculate the net earnings per year for a taxi driver by directly performing the calculations for expenses and revenue and then converting the numerical result to a string with a dollar sign."
   ]
  },
  {
   "cell_type": "code",
   "execution_count": 43,
   "id": "cd3b1662",
   "metadata": {},
   "outputs": [
    {
     "data": {
      "text/plain": [
       "'$19700'"
      ]
     },
     "execution_count": 43,
     "metadata": {},
     "output_type": "execute_result"
    }
   ],
   "source": [
    "str(\"$\") + str((49 * (-500 - 200 + 1200)) - (12 * 400))"
   ]
  },
  {
   "cell_type": "markdown",
   "id": "418fe7bf",
   "metadata": {},
   "source": [
    "#### Q6. You are convincing the same driver above to buy a Town Car and partner with Uber. Assuming the new car is $40,000, how much would the driver's gross fares need to increase per week to fully pay for the car in year 1 and maintain the same yearly profit margin as before?"
   ]
  },
  {
   "cell_type": "markdown",
   "id": "3a2e50ca",
   "metadata": {},
   "source": [
    "We will perform similar calculations, but with some modifications.\n",
    "\n",
    "Firstly, we will raise the gas price by 5% (multiplying it by 1.05) and decrease the insurance cost by 20% (multiplying the previous insurance cost by 0.8).\n",
    "\n",
    "In addition, we will add a new expense, the cost of a car, which is $40,000, since we assume that the driver will buy a car instead of renting it.\n",
    "\n",
    "Now, let's calculate the net earnings with these adjustments."
   ]
  },
  {
   "cell_type": "code",
   "execution_count": 44,
   "id": "91da90b4",
   "metadata": {},
   "outputs": [
    {
     "name": "stdout",
     "output_type": "stream",
     "text": [
      "$4670.0\n"
     ]
    }
   ],
   "source": [
    "# Calculate new expenses\n",
    "gas_per_week = gas_per_week * 1.05\n",
    "insurance_per_month = insurance_per_month * 0.8\n",
    "new_car = 40000\n",
    "\n",
    "new_total_expenses = new_car + gas_per_week * (total_weeks_per_year - weeks_off) + insurance_per_month * total_months_per_year\n",
    "new_profit_margin = total_revenue - new_total_expenses\n",
    "print(\"$\"+str(new_profit_margin))"
   ]
  },
  {
   "cell_type": "markdown",
   "id": "ea930f81",
   "metadata": {},
   "source": [
    "Let’s calculate the new profit for our driver."
   ]
  },
  {
   "cell_type": "code",
   "execution_count": 45,
   "id": "1509743c",
   "metadata": {},
   "outputs": [
    {
     "name": "stdout",
     "output_type": "stream",
     "text": [
      "$4670.0\n"
     ]
    }
   ],
   "source": [
    "new_profit_margin = total_revenue - new_total_expenses\n",
    "print(\"$\"+str(new_profit_margin))"
   ]
  },
  {
   "cell_type": "markdown",
   "id": "e18410ee",
   "metadata": {},
   "source": [
    "The next step is to calculate the weekly fare increase required to maintain the same yearly profit margin as before after the adjustments made to the expenses."
   ]
  },
  {
   "cell_type": "code",
   "execution_count": 46,
   "id": "61574a71",
   "metadata": {},
   "outputs": [
    {
     "name": "stdout",
     "output_type": "stream",
     "text": [
      "$306.73\n"
     ]
    }
   ],
   "source": [
    "# Calculate the weekly fare increase\n",
    "fare_increase = (profit_margin - new_profit_margin) / (total_weeks_per_year - weeks_off)\n",
    "print(\"$\"+str(round(fare_increase, 2)))"
   ]
  },
  {
   "cell_type": "markdown",
   "id": "11d04559",
   "metadata": {},
   "source": [
    "To be able to purchase a car with increased weekly earnings, the driver needs to raise their fare by 306.73 per week."
   ]
  },
  {
   "cell_type": "markdown",
   "id": "5c9466df",
   "metadata": {},
   "source": [
    "As with the previous question, we will perform the calculations without adding variables and first compute the annual profit margin."
   ]
  },
  {
   "cell_type": "code",
   "execution_count": 49,
   "id": "a3a3b68f",
   "metadata": {},
   "outputs": [
    {
     "data": {
      "text/plain": [
       "19700"
      ]
     },
     "execution_count": 49,
     "metadata": {},
     "output_type": "execute_result"
    }
   ],
   "source": [
    "49 * (-500 - 200 + 1200) - (12 * 400)"
   ]
  },
  {
   "cell_type": "markdown",
   "id": "2b9731e0",
   "metadata": {},
   "source": [
    "Next, we'll compute the new profit margin, which will be the profit margin after the driver buys a car."
   ]
  },
  {
   "cell_type": "code",
   "execution_count": 51,
   "id": "e1ef21fa",
   "metadata": {},
   "outputs": [
    {
     "data": {
      "text/plain": [
       "4670.0"
      ]
     },
     "execution_count": 51,
     "metadata": {},
     "output_type": "execute_result"
    }
   ],
   "source": [
    "((49 * 1200) - (200 * 1.05 * 49) - (400 * 0.8 *12) - (40000))"
   ]
  },
  {
   "cell_type": "markdown",
   "id": "6c77e1b6",
   "metadata": {},
   "source": [
    "Then, we will calculate the difference and divide it by 49, then round the outcome to 2 decimals.\n",
    "\n",
    "Lastly, we add a dollar sign at the beginning of the result and convert it into a string."
   ]
  },
  {
   "cell_type": "code",
   "execution_count": 52,
   "id": "8f81e0b9",
   "metadata": {
    "scrolled": true
   },
   "outputs": [
    {
     "data": {
      "text/plain": [
       "'$306.73'"
      ]
     },
     "execution_count": 52,
     "metadata": {},
     "output_type": "execute_result"
    }
   ],
   "source": [
    "str(\"$\") + str(round(((49 * (-500 - 200 + 1200)) - (12 * 400) - ((49 * 1200) - (200 * 1.05 * 49) - (400 * 0.8 *12) - (40000))) / (49),2))"
   ]
  },
  {
   "cell_type": "markdown",
   "id": "5ba256f7",
   "metadata": {},
   "source": [
    "End"
   ]
  }
 ],
 "metadata": {
  "kernelspec": {
   "display_name": "Python 3 (ipykernel)",
   "language": "python",
   "name": "python3"
  },
  "language_info": {
   "codemirror_mode": {
    "name": "ipython",
    "version": 3
   },
   "file_extension": ".py",
   "mimetype": "text/x-python",
   "name": "python",
   "nbconvert_exporter": "python",
   "pygments_lexer": "ipython3",
   "version": "3.11.5"
  }
 },
 "nbformat": 4,
 "nbformat_minor": 5
}
